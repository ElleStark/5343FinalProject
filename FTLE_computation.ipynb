{
  "nbformat": 4,
  "nbformat_minor": 0,
  "metadata": {
    "colab": {
      "provenance": [],
      "authorship_tag": "ABX9TyMp0Q0AcvHLRi4Q67QFJUNY",
      "include_colab_link": true
    },
    "kernelspec": {
      "name": "python3",
      "display_name": "Python 3"
    },
    "language_info": {
      "name": "python"
    }
  },
  "cells": [
    {
      "cell_type": "markdown",
      "metadata": {
        "id": "view-in-github",
        "colab_type": "text"
      },
      "source": [
        "<a href=\"https://colab.research.google.com/github/ElleStark/5343FinalProject/blob/main/FTLE_computation.ipynb\" target=\"_parent\"><img src=\"https://colab.research.google.com/assets/colab-badge.svg\" alt=\"Open In Colab\"/></a>"
      ]
    },
    {
      "cell_type": "markdown",
      "source": [
        "# FTLE Fields - Computation Tutorial\n",
        "\n",
        "This notebook contains procedures and example Python code for computing and plotting finite-time Lyapunov exponent (FTLE) fields from velocity field data.\n",
        "\n",
        "### Background\n",
        "\n",
        "FTLE fields are useful as a diagnostic method for identifying Lagrangian coherent structures (LCS) in fluid flows. LCS are material surfaces that organize a fluid flow into ordered patterns that frame and quantify material transport, forming what's been described as a robust 'skeleton' of the flow (Haller 2015). Ridges in backward-time FTLE fields indicate the presence of attracting LCS, which, as the name implies, attract nearby fluid trajectories at the highest local rate, while ridges in forward-time FTLE fields indicate the presence of repelling LCS, which repel nearby fluid trajectories at the highest local rate (Peacock and Haller 2013). In our example code, we develop a backward-time FTLE field for a double gyre flow with an analytical velocity field.\n",
        "\n",
        "### Overview\n",
        "\n",
        "The tutorial is organized into 7 steps:\n",
        "\n",
        "1.   Define the velocity field\n",
        "2.   Advect a grid of particles to determine the flow map $ϕ$\n",
        "3.   Compute the gradient of the flow map using finite differencing: \\\\\n",
        "$\\frac{d \\phi_t^{t+T}(\\bf x)}{d \\bf x} \\bigg |_{\\mathbf{x}_{i,j}} = \\begin{bmatrix}\n",
        "\\frac{x_{i+1,j}(t+T) - x_{i-1,j}(t+T)}{x_{i+1,j}(t) - x_{i-1,j}(t)} & \\frac{x_{i,j+1}(t+T) - x_{i,j-1}(t+T)}{y_{i,j+1}(t) - y_{i,j-1}(t)} \\\\\n",
        "\\frac{y_{i+1,j}(t+T) - y_{i-1,j}(t+T)}{x_{i+1,j}(t) - x_{i-1,j}(t)} & \\frac{y_{i,j+1}(t+T) - y_{i,j-1}(t+T)}{y_{i,j+1}(t) - y_{i,j-1}(t)}\n",
        "\\end{bmatrix}$\n",
        "4.   Calculate the Cauchy strain tensor, given by: \\\\\n",
        "$\\Delta = \\frac{d \\phi_t^{t+T}(\\bf x)}{d \\bf x}^*\\frac{d \\phi_t^{t+T}(\\bf x)}{d \\bf x}$\n",
        "5.   Find the maximum eigenvalue of the Cauchy strain tensor, $λ_{max}$\n",
        "6.   Compute the FTLE field, given by: \\\\\n",
        "$\\sigma_t^T(\\mathbf x) = \\frac{1}{|T|}\\ln \\sqrt{λ_{max}(Δ)}$\n",
        "7.   Plot the FTLE field\n",
        "\n",
        "The procedures below generally follow the approach described in Shadden et al., 2005, and draws from the Shadden lab tutorial for LCS computation: https://shaddenlab.berkeley.edu/uploads/LCS-tutorial/computation.html.  "
      ],
      "metadata": {
        "id": "-kwyMuXg_BMI"
      }
    },
    {
      "cell_type": "markdown",
      "source": [
        "## 1. Define the velocity field\n",
        "\n",
        "Use a callable function to define the instantaneous velocity at a given time at one or more points in space. For an analytical flow, the function can take arguments including time and location(s), which are plugged into the velocity equation(s) to calculate the velocity at any point in time and space, as in our example flow. For a discrete flow, the function would estimate the velocity at a desired point based on interpolating from points with known/measured velocity.\n",
        "\n",
        "\\\\\n",
        "\n",
        "The example function below calculates the velocity field for a double gyre, which models the incrompressible flow of two counter-rotating vortices that periodically expand and contract. The velocity field is given by:\n",
        "\n",
        "$u = -\\pi U \\sin (\\pi f(x)) \\cos(\\pi y)$, \\\\\n",
        "$v = \\pi U \\cos(\\pi f(x)) \\sin(\\pi y) \\frac{∂ f}{∂ x}$, \\\\\n",
        "where \\\\\n",
        "$f(x, t) = x[1 + ϵ \\sin(2 \\pi t/T_0)(x-2)]$. \\\\\n",
        "\n",
        "In the example below we set $ϵ = 0.25$, $T_0=10$, and $a=0.1$, following Pratt et al., 2015. \\\\\n",
        "\n"
      ],
      "metadata": {
        "id": "GGaXN_voIw8y"
      }
    },
    {
      "cell_type": "markdown",
      "source": [
        "First, we need to import all required Python libraries:"
      ],
      "metadata": {
        "id": "n1zO5rz_kYnQ"
      }
    },
    {
      "cell_type": "code",
      "execution_count": null,
      "metadata": {
        "id": "RIX1E_cb-4n2"
      },
      "outputs": [],
      "source": [
        "import numpy as np\n",
        "import numpy.linalg as LA\n",
        "from math import *\n",
        "import matplotlib.pyplot as plt\n",
        "import matplotlib.animation as animation"
      ]
    },
    {
      "cell_type": "markdown",
      "source": [
        "Then, we can define a function to calculate (or interpolate, for discrete fields) the velocity field at a given point(s) in space and time:"
      ],
      "metadata": {
        "id": "dWDG8IYqkcg_"
      }
    },
    {
      "cell_type": "code",
      "source": [
        "def vfield(time, y, epsilon=0.25, T_0=10, a=0.1):\n",
        "\n",
        "  f = y[0] * [1 + epsilon * np.sin(2 * pi * time / T_0) * (y[0] - 2)]\n",
        "  df = 1 + 2 * epsilon * (y[0] - 1) * np.sin(2 * pi * time / T_0)\n",
        "\n",
        "  u = -pi * a * np.sin(pi * f) * np.cos(pi * y[1])\n",
        "  v = pi * a * np.cos(pi * f) * np.sin(pi * y[1]) * df\n",
        "  u = np.squeeze(u)  # get rid of extra dimension of length 1 if present\n",
        "  v = np.squeeze(v)\n",
        "\n",
        "  vfield = np.array([u, v])  # convert to array for vectorized FTLE calculations later\n",
        "\n",
        "  return vfield"
      ],
      "metadata": {
        "id": "rSHuvWiYJFts"
      },
      "execution_count": null,
      "outputs": []
    },
    {
      "cell_type": "markdown",
      "source": [
        "To check our velocity function, we can calculate and plot the field at a few times:"
      ],
      "metadata": {
        "id": "WcioYailpeOP"
      }
    },
    {
      "cell_type": "code",
      "source": [
        "# Initialize variables\n",
        "num_x_points = 40\n",
        "T_0 = 10\n",
        "plot_times = [0, 0.25*T_0, 0.75*T_0]\n",
        "vfields = []\n",
        "\n",
        "# Create small grid for showing velocity arrows\n",
        "x = np.linspace(0, 2, num_x_points)\n",
        "y = np.linspace(0, 1, int(num_x_points/2))\n",
        "x, y = np.meshgrid(x, y, indexing='xy') # set grid indexing to xy for Cartesian indexing\n",
        "\n",
        "# Loop through time, assigning velocity field [x, y, u, v] for each t\n",
        "for time in plot_times:\n",
        "  velocity_field = vfield(time, [x, y])\n",
        "  # need to extract u and v from vfield array\n",
        "  u = velocity_field[0]\n",
        "  v = velocity_field[1]\n",
        "  velocity_field = [x, y, u, v]\n",
        "  vfields.append(velocity_field)\n",
        "\n",
        "# Store vfields for all times in dictionary\n",
        "vfield_dict = dict(zip(plot_times, vfields))\n",
        "\n",
        "# Plot the velocity field, one image for each time\n",
        "for time in plot_times:\n",
        "   plt.quiver(*vfield_dict[time])\n",
        "   plt.show()"
      ],
      "metadata": {
        "id": "Q-RP2966pj0G"
      },
      "execution_count": null,
      "outputs": []
    },
    {
      "cell_type": "markdown",
      "source": [
        "## 2. Advect a grid of particles to determine the flow map\n",
        "First initialize a grid of particles, then advect them over the integration time using the velocity data from step 2. For ***attracting LCS*** boundaries, advect the particles ***backward in time***. For ***repelling LCS*** boundaries, advect the particles ***forward in time***. To advect the particles, a ***Runge-Kutta 4th-order integration*** (RK4) algorithm is often used, though lower-order integration schemes could also be used if computation time is an issue.\n",
        "\n",
        "\\\\\n",
        "\n",
        "Note that the integration time plays a key role in the resulting FTLE field and will be dependent on the application. Generally, longer integration time results in more refined and lengthened LCS. Our example uses an integration time of 2 periods, based on the selection in Pratt et al., 2015, to resolve the dynamics of the double gyre. For additional discussion of integration time, see Shadden et al., 2005.\n",
        "\n",
        "For additional details about RK4 implementation in Python, see these videos by Steve Brunton: \\\\\n",
        "\n",
        "Coding RK4 in Python & Matlab - https://www.youtube.com/watch?v=vNoFdtcPFdk \\\\\n",
        "Vectorized integration for bundle of initial conditions - https://www.youtube.com/watch?v=LRF4dGP4xeo  \n",
        "\n",
        "\\\\\n",
        "\n",
        "First, we define functions to 1) implement RK4 to advect the particles a single timestep and 2) compute the final particle positions at the end of the total integration time.  "
      ],
      "metadata": {
        "id": "hHER0THbHBwO"
      }
    },
    {
      "cell_type": "code",
      "source": [
        "### Function to estimate particle position after one timestep using 4th order Runge-Kutta method\n",
        "def rk4_singlestep(vfield, dt, t0, y0):\n",
        "\n",
        "  # Compute velocity at full steps and partial steps\n",
        "  f1 = vfield(t0, y0)\n",
        "  f2 = vfield(t0 + dt / 2, y0 + (dt / 2) * f1)\n",
        "  f3 = vfield(t0 + dt / 2, y0 + (dt / 2) * f2)\n",
        "  f4 = vfield(t0 + dt, y0 + dt * f3)\n",
        "  # Take a weighted average * dt to move the particle\n",
        "  y_out = y0 + (dt / 6) * (f1 + 2 * f2 + 2 * f3 + f4)\n",
        "  return y_out\n",
        "\n",
        "\n",
        "### Function to estimate flow map (final particle positions) using RK4\n",
        "def compute_flow_map(x, y, T, start_time):\n",
        "\n",
        "  # Initialize variables\n",
        "  dt = T / 1000 # Here timestep is defined based on the integration time\n",
        "  L = abs(int(T / dt))\n",
        "  ny, nx = np.shape(x)\n",
        "\n",
        "  # Se up Initial Conditions\n",
        "  yIC = np.zeros((2, nx * ny))\n",
        "  yIC[0, :] = x.reshape(nx * ny)\n",
        "  yIC[1, :] = y.reshape(nx * ny)\n",
        "  yin = yIC\n",
        "\n",
        "  # Compute new positions at each step\n",
        "  for step in range(L):\n",
        "      tstep = step * dt + start_time\n",
        "      yout = rk4_singlestep(vfield, dt, tstep, yin)\n",
        "      yin = yout\n",
        "\n",
        "  return yout"
      ],
      "metadata": {
        "id": "IvbMhGg46KZp"
      },
      "execution_count": null,
      "outputs": []
    },
    {
      "cell_type": "markdown",
      "source": [
        "Once we've defined our functions, we can call them to compute a flow map for a specified flow and integration time. The example below advects a grid of 200 x 400 particles backward in time 2 periods using the double gyre velocity field defined in step 1."
      ],
      "metadata": {
        "id": "-O0ZROyRn4Dv"
      }
    },
    {
      "cell_type": "code",
      "source": [
        "# Set up grid of particles\n",
        "num_x_points = 400\n",
        "x = np.linspace(0, 2, num_x_points)\n",
        "y = np.linspace(0, 1, int(num_x_points/2))\n",
        "x, y = np.meshgrid(x, y, indexing='xy') # set grid indexing to xy for Cartesian indexing\n",
        "\n",
        "# Assign variables: period T_0 and integration time T\n",
        "T_0 = 10\n",
        "T = -2 * T_0\n",
        "start_time = 0\n",
        "\n",
        "# Call function to compute flow map\n",
        "flow_map = compute_flow_map(x, y, T, start_time)"
      ],
      "metadata": {
        "id": "BFzoGWUFoNL1"
      },
      "execution_count": null,
      "outputs": []
    },
    {
      "cell_type": "markdown",
      "source": [
        "To check that the particles moved, we can plot the original and final particle locations for a small section of the grid:"
      ],
      "metadata": {
        "id": "oMdCQQeSln02"
      }
    },
    {
      "cell_type": "code",
      "source": [
        "# Original grid\n",
        "fig, ax = plt.subplots()\n",
        "plt.scatter(x, y)\n",
        "ax.set(xlim=(0, 0.1), ylim=(0, 0.05)) # Zoom in to see individual particles\n",
        "plt.show()\n",
        "\n",
        "# Final grid\n",
        "fig, ax = plt.subplots()\n",
        "plt.scatter(flow_map[0], flow_map[1])\n",
        "ax.set(xlim=(0, 0.1), ylim=(0, 0.05)) # Zoom in to see individual particles\n",
        "plt.show()"
      ],
      "metadata": {
        "id": "1rcmFH3al0na"
      },
      "execution_count": null,
      "outputs": []
    },
    {
      "cell_type": "markdown",
      "source": [
        "## 3. Compute the gradient of the flow map\n",
        "\n",
        "In Step 2, we obtained a map of particle locations from initial positions $\\mathbf{x}_{i, j}(t)$ to final positions $\\mathbf{x}_{i, j}(t+T)$. As long as our initial particle locations are close enough to each other, we can calculate the gradient of the flow map $\\phi$ using central differencing with the following formula (Shadden et al., 2005):\n",
        "\n",
        "$\\frac{d \\phi_t^{t+T}(\\bf x)}{d \\bf x} \\bigg |_{\\mathbf{x}_{i,j}} = \\begin{bmatrix}\n",
        "\\frac{x_{i+1,j}(t+T) - x_{i-1,j}(t+T)}{x_{i+1,j}(t) - x_{i-1,j}(t)} & \\frac{x_{i,j+1}(t+T) - x_{i,j-1}(t+T)}{y_{i,j+1}(t) - y_{i,j-1}(t)} \\\\\n",
        "\\frac{y_{i+1,j}(t+T) - y_{i-1,j}(t+T)}{x_{i+1,j}(t) - x_{i-1,j}(t)} & \\frac{y_{i,j+1}(t+T) - y_{i,j-1}(t+T)}{y_{i,j+1}(t) - y_{i,j-1}(t)}\n",
        "\\end{bmatrix}$\n",
        "\n"
      ],
      "metadata": {
        "id": "4Odcso8fmTJz"
      }
    },
    {
      "cell_type": "code",
      "source": [
        "# Assign and initialize variables\n",
        "grid_height, grid_width = np.shape(x)\n",
        "x_final = flow_map[0]\n",
        "x_final = x_final.reshape(grid_height, grid_width)\n",
        "y_final = flow_map[1]\n",
        "y_final = y_final.reshape(grid_height, grid_width)\n",
        "\n",
        "delta_x = x[0][0] - x[0][1]\n",
        "delta_y = y[0][0] - y[1][0]\n",
        "\n",
        "jacobian = np.empty([grid_height, grid_width, 2, 2], float)\n",
        "\n",
        "# Loop through each point, calculating the gradient (Jacobian) at each location\n",
        "for i in range(1, grid_width - 1):\n",
        "    for j in range(1, grid_height - 1):\n",
        "        jacobian[j][i][0][0] = (x_final[j, i + 1] - x_final[j, i - 1]) / (2 * delta_x)\n",
        "        jacobian[j][i][0][1] = (x_final[j + 1, i] - x_final[j - 1, i]) / (2 * delta_y)\n",
        "        jacobian[j][i][1][0] = (y_final[j, i + 1] - y_final[j, i - 1]) / (2 * delta_x)\n",
        "        jacobian[j][i][1][1] = (y_final[j + 1, i] - y_final[j - 1, i]) / (2 * delta_y)"
      ],
      "metadata": {
        "id": "l5HReu0Fq6iS"
      },
      "execution_count": null,
      "outputs": []
    },
    {
      "cell_type": "markdown",
      "source": [
        "## 4. Calculate the Cauchy strain tensor\n",
        "\n",
        "The Cauchy strain tensor, $Δ$, (aka the right Cauchy-Green deformation tensor) provides a rotation-independent description of the square of local change in distances due to deformation. We compute it by multiplying the deformation gradient tensor by its transpose as follows:\n",
        "\n",
        "$\\Delta = \\frac{d \\phi_t^{t+T}(\\bf x)}{d \\bf x}^*\\frac{d \\phi_t^{t+T}(\\bf x)}{d \\bf x}$"
      ],
      "metadata": {
        "id": "WewP5otxwT2N"
      }
    },
    {
      "cell_type": "code",
      "source": [
        "cg_tensor = np.empty([grid_height, grid_width, 2, 2], float)\n",
        "\n",
        "for i in range(1, grid_width - 1):\n",
        "    for j in range(1, grid_height - 1):\n",
        "      cg_tensor[j][i] = np.dot(np.transpose(jacobian[j][i]), jacobian[j][i])"
      ],
      "metadata": {
        "id": "EH6lux6210JE"
      },
      "execution_count": null,
      "outputs": []
    },
    {
      "cell_type": "markdown",
      "source": [
        "## 5. Find the largest eigenvalue of the deformation tensor\n",
        "\n",
        "We then compute the largest eigenvalue, $λ_{max}$, of the 2 x 2 Cauchy strain tensor at each location.  "
      ],
      "metadata": {
        "id": "PQDnp1aepIEo"
      }
    },
    {
      "cell_type": "code",
      "source": [
        "max_eigvals = np.empty([grid_height, grid_width])\n",
        "\n",
        "for i in range(1, grid_width - 1):\n",
        "    for j in range(1, grid_height - 1):\n",
        "      eigvals = LA.eigvals(cg_tensor[j][i])\n",
        "      max_eigvals[j][i] = max(eigvals)"
      ],
      "metadata": {
        "id": "cDNN8uDi2xHr"
      },
      "execution_count": null,
      "outputs": []
    },
    {
      "cell_type": "markdown",
      "source": [
        "## 6. Compute FTLE values\n",
        "\n",
        "The max eigenvalue can now be plugged into the below equation to compute the FTLE field, $σ_t^T(\\mathbf{x})$, at each position in the particle grid.\n",
        "\n",
        "$\\sigma_t^T(\\mathbf x) = \\frac{1}{|T|}\\ln \\sqrt{λ_{max}(Δ)}$"
      ],
      "metadata": {
        "id": "x0AD_YplqrX4"
      }
    },
    {
      "cell_type": "code",
      "source": [
        "ftle = np.zeros([grid_height, grid_width], float)\n",
        "\n",
        "for i in range(1, grid_width - 1):\n",
        "    for j in range(1, grid_height - 1):\n",
        "      ftle[j][i] = 1 / (2 * abs(T)) * log(sqrt(max_eigvals[j][i]))"
      ],
      "metadata": {
        "id": "XLrzvvTv1eeh"
      },
      "execution_count": null,
      "outputs": []
    },
    {
      "cell_type": "markdown",
      "source": [
        "## 7. Plot FTLE field\n",
        "\n",
        "We can now visualize LCS boundaries by plotting the FTLE field. Ridges in the backward-time FTLE fields represent attracting LCS, while ridges in forward-time FTLE fields represent repelling LCS. We expect passive scalars to coalesce along attracting LCS."
      ],
      "metadata": {
        "id": "xmRV0tD74wcF"
      }
    },
    {
      "cell_type": "code",
      "source": [
        "# Contour plot of backward-time FTLE field calculated above\n",
        "fig, ax = plt.subplots()\n",
        "plt.contourf(x, y, ftle, 100, cmap=plt.cm.Greys)\n",
        "ax.set_aspect('equal', adjustable='box')"
      ],
      "metadata": {
        "id": "66G1QXey42PA"
      },
      "execution_count": null,
      "outputs": []
    },
    {
      "cell_type": "markdown",
      "source": [
        "## Extensions\n",
        "\n",
        "This notebook provided an example of calculating an FTLE field at one point in time for an analytical velocity field. There are many potentially useful extensions to the above methods, such as computing FTLE fields for many points in time to visualize the dynamic behavior of the flow or computing FTLE fields based on discrete/experimental data. An expanded version of the above code that includes FTLE field animations is available here: https://github.com/ElleStark/5343FinalProject.   "
      ],
      "metadata": {
        "id": "1KT0D2DeSIpf"
      }
    },
    {
      "cell_type": "markdown",
      "source": [
        "## References\n",
        "Haller, G. (2015). Lagrangian Coherent Structures. Annual Review of Fluid Mechanics, 47, 137-62. https://doi.org/10.1146/annurev-fluid-010313-141322\n",
        "\n",
        "\\\\\n",
        "\n",
        "Peacock, T., & Haller, G. (2013). Lagrangian coherent structures: The hidden skeleton of fluid flows. Physics Today, 66(2), 41–47. https://doi.org/10.1063/PT.3.1886\n",
        "\n",
        "\\\\\n",
        "\n",
        "Pratt, K. R., Meiss, J. D., & Crimaldi, J. P. (2015). Reaction enhancement of initially distant scalars by Lagrangian coherent structures. Physics of Fluids, 27(3), 035106. https://doi.org/10.1063/1.4914467\n",
        "\n",
        "\\\\\n",
        "\n",
        "Shadden, S. C., Lekien, F., & Marsden, J. E. (2005). Definition and properties of Lagrangian coherent structures from finite-time Lyapunov exponents in two-dimensional aperiodic flows. Physica D: Nonlinear Phenomena, 212(3–4), 271–304. https://doi.org/10.1016/j.physd.2005.10.007\n",
        "\n"
      ],
      "metadata": {
        "id": "9h8_SFFCGKSB"
      }
    }
  ]
}